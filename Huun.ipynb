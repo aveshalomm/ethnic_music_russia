{
 "cells": [
  {
   "cell_type": "code",
   "execution_count": 1,
   "metadata": {},
   "outputs": [],
   "source": [
    "import vk  "
   ]
  },
  {
   "cell_type": "code",
   "execution_count": 2,
   "metadata": {},
   "outputs": [],
   "source": [
    "token = \"\"  \n",
    "session = vk.Session(access_token=token)  \n",
    "vk_api = vk.API(session)  "
   ]
  },
  {
   "cell_type": "code",
   "execution_count": 3,
   "metadata": {},
   "outputs": [],
   "source": [
    "personal_token = \"\" \n",
    "session = vk.Session(access_token=personal_token)  \n",
    "vk_personal_api = vk.API(session)  "
   ]
  },
  {
   "cell_type": "code",
   "execution_count": 4,
   "metadata": {},
   "outputs": [],
   "source": [
    "def get_members(groupid, fields=('sex', 'bdate', 'city', 'country', 'domain')):\n",
    "    first = vk_api.groups.getMembers(group_id=groupid, fields=fields, v=5.92)  \n",
    "    data = first[\"items\"]  \n",
    "    count = first[\"count\"] // 100  \n",
    "   \n",
    "   \n",
    "    for i in range(1, count+1):  \n",
    "        data = data + vk_api.groups.getMembers(group_id=groupid, fields=fields, v=5.92, offset=i*1000)[\"items\"]\n",
    "    return data"
   ]
  },
  {
   "cell_type": "code",
   "execution_count": 5,
   "metadata": {},
   "outputs": [
    {
     "data": {
      "text/plain": [
       "5440"
      ]
     },
     "execution_count": 5,
     "metadata": {},
     "output_type": "execute_result"
    }
   ],
   "source": [
    "Huun_members = get_members(\"huunhuurtu\")\n",
    "len(Huun_members)"
   ]
  },
  {
   "cell_type": "code",
   "execution_count": 6,
   "metadata": {},
   "outputs": [],
   "source": [
    "def save_members_to_file(filename, Huun_members):\n",
    "    with open(filename, 'w', encoding='utf-8') as f:\n",
    "        for member in Huun_members:\n",
    "            _id = member[\"id\"] \n",
    "            first_name = member[\"first_name\"] \n",
    "            last_name = member[\"last_name\"] \n",
    "            \n",
    "            sex = member[\"sex\"] \n",
    "            if int(sex) == 1:  \n",
    "                sex = \"F\"  \n",
    "            elif int(sex) == 2:  \n",
    "                sex = \"M\" \n",
    "            else: \n",
    "                sex = \"-\"  \n",
    "                \n",
    "            bdate = member.get('bdate', \"-\")   \n",
    "            if len(bdate.split(\".\")) == 3:  \n",
    "                bdate = bdate.split(\".\")[-1] \n",
    "            else:  \n",
    "                bdate = \"-\"  \n",
    "                \n",
    "            city = member.get('city', {}).get(\"title\", \"-\")  \n",
    "            country = member.get('country', {}).get(\"title\", \"-\")  \n",
    "            f.write(f\"{_id},\\t{first_name}\\t{last_name}\\t{sex}\\t{bdate}\\t{city}\\t{country}\\n\")  "
   ]
  },
  {
   "cell_type": "code",
   "execution_count": 7,
   "metadata": {},
   "outputs": [],
   "source": [
    "with open(\"members_vk_groups.tsv\", 'w', encoding='utf-8') as f:\n",
    "        for member in Huun_members:\n",
    "            _id = member[\"id\"] \n",
    "            first_name = member[\"first_name\"] \n",
    "            last_name = member[\"last_name\"] \n",
    "            \n",
    "            sex = member[\"sex\"]\n",
    "            if int(sex) == 1:  \n",
    "                sex = \"F\"  \n",
    "            elif int(sex) == 2: \n",
    "                sex = \"M\" \n",
    "            else:  \n",
    "                sex = \"-\"  \n",
    "                \n",
    "            bdate = member.get('bdate', \"-\")   \n",
    "            if len(bdate.split(\".\")) == 3:  \n",
    "                bdate = bdate.split(\".\")[-1]  \n",
    "            else:  \n",
    "                bdate = \"-\"  \n",
    "                \n",
    "            city = member.get('city', {}).get(\"title\", \"-\") \n",
    "            country = member.get('country', {}).get(\"title\", \"-\")  \n",
    "            f.write(f\"{_id},\\t{first_name}\\t{last_name}\\t{sex}\\t{bdate}\\t{city}\\t{country}\\n\")"
   ]
  },
  {
   "cell_type": "code",
   "execution_count": 8,
   "metadata": {},
   "outputs": [],
   "source": [
    "def get_posts(owner_id):\n",
    "    first = vk_api.wall.get(domain=owner_id, count=100, filter=\"owner\", v=5.124)\n",
    "    data = first[\"items\"]  \n",
    "    count = first[\"count\"] // 100\n",
    "    for i in range(1, count+1):  \n",
    "        data += vk_api.wall.get(domain=owner_id, v=5.124, filter=\"owner\", count=100, offset=i*100)[\"items\"]\n",
    "    return [i['text'] for i in data]"
   ]
  },
  {
   "cell_type": "code",
   "execution_count": 9,
   "metadata": {},
   "outputs": [],
   "source": [
    "import re"
   ]
  },
  {
   "cell_type": "code",
   "execution_count": 10,
   "metadata": {},
   "outputs": [
    {
     "name": "stdout",
     "output_type": "stream",
     "text": [
      "['', '', 'Ulrich Balss', 'Huun Huur Tu', '', '', '', '', '', 'Дорогие друзья!\\n\\nСкоро, 13го декабря состоится наш концерт в Москве, в Вегас Сити Холле. \\n\\nХорошая новость: Черная пятница до 1 декабря! Cкидка на наш концерт 30% по промокоду 30BF19 .\\n\\nДрузья, успевайте купить билеты!\\n\\nСсылка: \\nhttps://vegas-hall.ru/afisha/huurtu19/', 'Уникальный концерт «Хуун-Хуур-Ту»', '', '', '', '', '', '', 'WORLD MUSIC, Sep.16- Huun Huur Tu @ 1862 Theatre', '', '', 'Доброе утро друзья! Слушайте наше интервью на радио Серебрянный дождь прямо сейчас! А вечером приходите на наш концерт в Москве в парке Музеон. Пост ниже.\\n100.1 FM #silverraineadio #huunhuurtu #concerthuunhuurtumoscow #moiaplaneta #muzeon', '', '', '', '', 'Ансамбль \"Хуун-Хуур-Ту\"', 'Приглашаем к просмотру наше живое выступление в KEXP, Калифорния этим летом.\\nhttps://youtu.be/R2ovoRyv4kw', '', '', '', '', 'концерт в Тюмени', 'Этнический квартет «Хуун-Хуур-Ту» - музыка великой степи', '', '', 'Репортаж о нашем выступлении в Москве, в Московском международном доме музыки, 1 февраля 2016 года:', 'Шикарное видео, опубликованное в октябре 2015 года', 'Друзья! смотрите нашу афишу на январь - март в разделе \"Ближайшие концерты-2016\"!', '', '', 'Всем любителям горлового пения, кто долго ждал нас в Новосибирске - мы выступаем в Филармонии 17 сентября в 20.30 в рамках фестиваля CTM - Siberia!!!', 'Back in Ekaterinbug! мы в пабе Britannia, 8 октября, начало в 21.00', '', 'Подытоживая сбор пожеланий по приезду в города, вижу, что нам надо приехать в: Санкт - Петербург, Омск, Калининград, Самару (уже точно будет), Екатеринбург (под вопросом), Казань (точно будет!), Петрозаводск, Магнитогорск.\\n\\nУже известны даты следующих концертов:\\n - в Красноярске - 26 февраля 2016, филармония;\\n - в Казани - 25 марта 2016, филармония;\\n\\nПохоже, что наш весенний тур - 2016 будет довольно продолжительным!', 'Позавчера начался наш большой европейский тур, вот график концертов:\\nMarch 11 - Bremerhaven\\nMarch 12 - Bremen\\nMarch 13 - Berlin\\nMarch 14 - Halle\\nMarch 15 - Göteborg\\nMarch 16 - Prague\\nMarch 17 - Hradec Kralove (CZ)\\nMarch 18 - Wien\\nMarch 19 - Salzburg\\nMarch 20 - Bleiburg\\nMarch 21 - Graz\\nMarch 22 - Wroclaw\\n\\nесли кто - то в Европе сейчас, вот подробная информация о местах проведения концертов и как купить билеты  (если они еще есть) :http://www.jaro.de/artists/huun-huur-tu/', 'Дорогие друзья! в феврале - марте 2016 года мы планируем большой российский тур, хотим начать в Сибири и доехать до европейской части России. Если у кого - то есть предложения, или кто - то мечтает увидеть нас в своем городе - пишите, здесь или можно прямо мне на почту: sartakov@gmail.com (Ярослав Сартаков, директор группы).', 'И еще одно очень хорошее видео с этого же концерта!', 'Отличное видео с концерта в Красноярске - большое человеческое спасибо нашему другу Павлу Стаброву!', 'Интервью с группой Хуун-Хуур-ту.\\nЭфир можно смотреть из любой точки Земли по этой ссылке он-лайн и после эфира. Старт сегодня в 18:40 по московскому времени\\nhttp://ekburg.tv/etv_music/huunhuurtu', 'Интервью из Красноярска (накануне концерта 7 февраля 2015):', 'Расшифровка интервью \"Хуун Хуур Ту\" екатеринбургскому интернет - порталу E1.RU:', 'И еще отзыв слушателя с концерта - Дарья Бушмелева:', 'Впечатления от концерта в Екатеринбурге (4 февраля 2015) от нашего слушателя - Георгия Мамарина', 'Тувинцы в\\xa0гости к\\xa0нам', 'Прямо сейчас - прямой эфир на сайте E1.Ru, интервью с ансамблем Хуун Хуур Ту перед концертом в Екатеринбурге!', '7 февраля 2015. 19 часов, концертная студия \"Серебрянного Дождя\". После многолетнего перерыва - мы снова в Красноярске!', 'В Новом году - хорошие новости! 30-го декабря 2014 года указом Президента России нашему дорогому Саяну Бапа присвоено звание заслуженного артиста России! Поздравляем от всей души!', '', '', '30 октября, Осло, концерт в рамках фестиваля \"Oslo World Music Festival\"', 'Новая, свежезаписанная композиция, встречайте!', 'Вот ссылка на наш концерт в рамках \"Oslo World Music Festival\" 30 октября 2014 года.', 'Дорогие друзья! новый концертный сезон приближается, и мы постоянно получаем все новые и новые приглашения. Очень рады сообщить, что 27 и 28 ноября мы выступаем в новом, только что открывшемся концертном зале ELMA ARTS COMPLEX,  который является составной частью ELMA LUXURY HOTEL (www.elma-hotel.com), расположенном в городе Zichron Ya’akov, Израиль. Поэтому - всех наших израильских поклонников приглашаем и ждем!', 'Дорогие друзья! Только что получено подтверждения, что 30 октября состоится выступление \"Хуун - Хуур - Ту\" на фестивале Oslo World Music festival (понятно, что в замечательном городе Осло).  Так что - если Вы будете в конце октября в Норвегии, ждем Вас на нашем концерте.', '8 апреля, вторник: Хуун Хуур Ту (Тува)', 'Для всех московских поклонников Хуун-Хуур-Ту - сольный концерт квартета состоится в Международном Доме Музыки (www.mmdm.ru) 30 ноября 2014 года. Билеты вот - вот появятся в продаже!', 'Дорогие друзья! Спасибо за приглашения приехать в Челябинск, Ярославль, Калининград, Петрозаводск. Обязательно начнем прорабатывать возможность посещения этих городов с организаторами концертов!', 'Дорогие друзья! уже совсем скоро начинается российский тур Хуун-Хуур-Ту. 15 марта - первый концерт, Тюмень, концертный зал филармонии. И вот - трек-лист нашей концертной программы \"Когда наступает весна\":\\n\\nМоргул\\nОгбелер\\nСарала \\nСыгыт \\nТараан тараам\\nОрай болду\\nДуруяа\\nМежегей\\nХаян \\nКаргыраа\\nБай Тайга \\nИнтернационал \\nКонгургай \\nАа шу декей оо \\nЭки аъттар\\n\\nЖдем Вас на наших концертах!', 'Дорогие друзья! обращаемся к Вам с просьбой о помощи. Как Вы, должно быть, уже заметили, идет активная работа над нашим сайтом, расположенным по адресу www.huunhuurtu.ru Мы в основном закончили русскоязычную версию сайта и приступаем к англоязычной. Нужна помощь в качественном переводе текстов на английский язык. В чем мы нуждаемся в первую очередь:\\n\\n- перевод текста о тувинских инструментах -http://www.huunhuurtu.ru/p/instruments.html  (сам текст отредактирован Радиком Тюлюшем, хотелось бы максимально корректно перевести содержание на английский)\\n\\n- перевод текста о каждом из музыкантов -http://www.huunhuurtu.ru/p/blog-page_26.html\\n\\n- перевод текста о собственно коллективе Хуун Хуур Ту:http://www.huunhuurtu.ru/p/quartet.html\\n\\nБудем признательны за любые рекомендации и советы, выявление фактологических и иных ошибок.\\n\\nЗаранее спасибо!', 'Дорогие друзья! начинаем публиковать афишу ближайших концертов коллектива. В данный момент - опубликованы даты концертов ансамбля на март.', '', '', '', 'Суму чонум сур-ле кужу, суларавас быжыг турзун!', 'http://www.tuvaonline.ru/2013/03/12/v-hakasii-vystupit-tuvinskaya-gruppa-huun-hurt-tu.html\\nприходите все!', 'Летнее интервью с Кайгал-оолом Ховалыг\\nhttp://www.tuvaonline.ru/2012/08/20/kaygal-ool-hovalyg-nuzhno-berech-rodnoy-yazyk.html', 'Тувинский интернационал:\\nКайгамчыктыг интернационал\\n\\nКадагааты каргызынга \\nКачыгдадып чораан арат \\nКачыгдалдан чарып алган \\nКайгамчыктыг Интернационал \\n\\nИштикиниң эзергээнге \\nЭзергэдип чораан арат \\nЭзергэктен чарып алган \\nЭнерелдиг Интернационал \\n\\nБөмбүрзектиң кырынайга \\nБүдүүлүкке чораан арат \\nБүрүн эрге тыпсын берген \\nБүзүрелдиг Интернационал \\n\\nҮлетпүрчин тараачыннын \\nҮнүп турар хувускаалын \\nҮргүлчү-ле баштап турар \\nҮш-ле дугаар Интернационал', 'Сегодня концерт в Тюмени!', 'Huun-Huur-Tu at Fantasy Studios, Berkeley, California November 18, 2008', 'Весенний концерт в Тольятти', 'Концерт в Тольятти', 'Сегодня концерт в Уфе!', 'уже завтра ! концерт в Тольятти \\n\\n ', 'Концерт в Екатеринбурге 29 октября в 20-00 www.everjazz.ru/playbill/item/973', 'www.nashgorod.ru/afisha/concerts/event-3328.html\\nКонцерт в Тюмени 28 октября', '', 'Уфа ожидает концерта группы \"Хуун-Хуур-Ту\" как погружения в шаманский космос', '25 октября концерт в Тольятти в филармонии.\\nЦена билета от 300 до 1000 рублей\\nhttp://biletsamara.ru/viewAf/afisha.3588.html', 'Внимание, друзья! Знаменитые тувинцы долго ездили по миру и в итоге приехали в Москву!Сегодня традиционно в клубе Дом состоится концерт Хуун-Хуур-Ту. Начало концерта в 8.00. Не пропустите!', 'Хуун-хуур-ту в Японии', 'Официальный гимн фестиваля \"МИР Сибири\"', 'Mid-town Manhattan. Photo by Marty Watson', '', 'Уважаемые друзья! \\n22го мая в концертном зале ДОМ (Новокузнецкая) состоится концерт группы Хуун Хуур Ту и Болгарского женского хора Ангелит. Все подробности сможете узнать на сайте ДОМа\\n dom.com.ru/', 'Sumu chonum sür-le küzhü \\nSularavas byzhyg turzun \\nSürüg maldyŋ bazhy mendi \\nSürlüg küzhü ulam össün \\n\\nAjmak chonum töleezi boop \\nAmagilap tejlep or men \\nTaŋdymajdan örshee dilep \\nAvyraldap chalbaryy dyr.', '31 марта, концерт в Омске\\nhttp://vk.com/event35970225', '30 марта! концерт в Екатеринбурге www.everjazz.ru/playbill/item/753', 'Концерт Хуун-хуур-ту в Тольятти 29 марта!\\ntlt.ru/articles.php?n=1940338', '28 марта, концерт Хуун-хуур-ту в Самаре\\nhttp://vk.com/club35681682', '«Представьте прохладный свежий воздух, где высоко над уровнем моря дикие степи, бурные реки, поющие птицы, быстрые кони, юрты и культура, соединяющая в себе буддизм и шаманизм. Теперь представьте, что все это есть в музыке. С ритмом.\\nТак это и звучит»\\nUnion News', '«Представьте прохладный свежий воздух, где высоко над уровнем моря дикие степи, бурные реки, поющие птицы, быстрые кони, юрты и культура, соединяющая в себе буддизм и шаманизм. Теперь представьте, что все это есть в музыке. С ритмом.\\nТак это и звучит»\\nUnion News', 'Концерт в Москве 20 марта\\n dom.com.ru/events/479/\\nhttp://vk.com/event36710791', 'Всех прекрасных дам с 8 марта!', 'Эне-Сайым, Саян, Таңдым\\nЭрте шагдан чуртум чүве\\nЭриг-хоюг сыгыт-хөөмей\\nЭгүүр шагдан ырым чүве\\n\\nКаргырааның өгбелери\\nХая-дашче хуулза-даа\\nКадыг сеткил уярадыр\\nКаргыраалаар төлдер бисте\\n\\nХөөмей-сыгыт өгбелери\\nКөжээ-даштар аппарза-даа\\nХөрек-чүрек хайымналдыр\\nХөөмейлээр төлдер бисте\\n\\nКаргырааның өгбелери\\nХая-дашче хуулза-даа\\nХөөмей-сыгыт өгбелери\\nКөжээ-даштар аппарза-даа', 'Орай-ла болду-ла, дүне-ле болду-ла \\nОрук-ла аксы-ла ээн-не калды-ла \\nОрук-ла аксы-ла ол-даа канчаар-ла \\nОртун-на карам-на чааскаан-на калды-ла \\n\\n Кежээ-ле болду-ла, орай-ла болду-ла \\nКежиг-ле аксы-ла ээн-не калды-ла \\nКежиг-ле аксы-ла ол-даа-ла канчаар-ла \\nАнай-ла карам-на чааскаан-на калды-ла \\n\\n Адар-ла даңы-ла ада-ла берди-ле \\nАйбааңгы үгү-ле етпейн-не барды-ла \\nАйбааңгы үгү-ле ол-даа-ла канчаар-ла \\nАнай-ла карам-на чааскаан-на калды-ла \\n\\n Сарыг-ла хүнү-ле үнүп-ле келди-ле \\nЧашкаадай куштар-ла ырлай-ла берди-ле \\nЧашкаадай куштар-ла олар-ла канчаар-ла \\nЧассыг-ла сарыым-на чааскаан-на калды-ла', 'Челер оюм челип орда\\nЧерде туман арый-ла бээр\\nЧечен уруг чаңнап орда\\nЧеди сылдыс четчи-ле бээр\\n (х2)\\nОртун карам ийи караа\\nОрай үнген шолбан-на ийин\\nОдуртпалак кежегези\\nОоругнуң пөжү-ле ийин\\n (х2)\\nБазар оюм базып орда\\nБашкы туман арый-ла бээр\\nБаштак карам чаңнап орда\\nБашкы сылдыс четчи-ле бээр\\n (х2)\\nАжы-төлү эрес\\nХөглүг омак дең-дең\\nАрат-чону хостуг\\nБистиң Тыва дең-дең\\n\\nХеймер карам ийи караа\\nКежээ чыраан шолбан-на ийин\\nХенчелеп каан кежегези\\nКезек черниң пөжү-ле ийин', 'Кадагааты каргызынга \\nКачыгдадып чораан арат \\nКачыгдалдан чарып алган \\nКайгамчыктыг Интернационал \\n\\n Иштикиниң эзергээнге \\nЭзергэдип чораан арат \\nЭзергэктен чарып алган \\nЭнерелдиг Интернационал \\n\\n Бөмбүрзектиң кырынайга \\nБүдүүлүкке чораан арат \\nБүрүн эрге тыпсын берген \\nБүзүрелдиг Интернационал \\n\\n Үлетпүрчин тараачыннын \\nҮнүп турар хувускаалын \\nҮргүлчү-ле баштап турар \\nҮш-ле дугаар Интернационал', '', 'Ху из Хуур? Вся правда о группе «Хуун-Хуур-Ту»', 'Алдан четкен чылгымның \\nАлазы кайдал, Коңгурей \\nАлды кожуун чонумнуң \\nАалы кайдал, Коңгурей \\n\\n Чеден четкен чылгымның \\nЧелези кайдал, Коңгурей \\nЧеди кожуун чонумнуң \\nЧери кайдал, Коңгурей', 'Группа выступит на Этнофестивале \"Содружество\". Сахалин 24-25.09.11\\n vkontakte.ru/event30210448', 'Чүгүрүктүң бажынайда \\nЧүген суглук шыңгыр-шыңгыр \\nЧүден артык сарыым сактып \\nЧүлдү-чүреем шимир-шимир \\n\\n Эки доруум бажынайда \\nЭзер чүген шыңгыр-шыңгыр \\nЭрге-карам чажынайда \\nЧавагазы чайыр-чайыр \\n\\n Хемчик хемни өрү челген \\nХертеш-ойнуң чоруу-ла-дыр \\nКежее боорга чаңнап келир \\nХеймеримниң чаңы-ла-дыр \\n\\n Карбап карбап челип орар \\nКара-доруум челижи-дир \\nКаттыраңнап чаңнап орар \\nКарам-эжим чаңы-ла-дыр \\n\\n Аъдым бажы мөңгүн чүген \\nАдаарганчыг-дыр бе, бажа? \\nАнай-караң менде турар \\nАлыксанчыг-дыр бе, бажа? \\n\\n Алдын эзер, чүген, суглук \\nАдаарганчыг-дыр бе, бажа? \\nАлдын-караң менде турар \\nАлыксанчыг-дыр бе, бажа? \\n\\n Оглаа-дайның бажынайда \\nСуглук дээрбек шыңгыр-шыңгыр \\nОртун-карам чажынайда \\nЧавагазы чайыр-чайыр \\n\\n Саарында демдек баскан \\nСараламны мунуксаар мен \\nСалаазында билзек суккан \\nСарыым кыска дужуксаар мен', '10 самых успешных этнических музыкантов', 'Последний альбом Хуун-Хуур-Ту \"Ancestors Call\"\\n vkontakte.ru/audio?act=edit&album_id=16936115&gid=2485278', 'Выступление группы на фестивале Устуу-хурээ', 'Группа Хуун-хуур-ту выступит 10 июля на Саянском кольце и 15 июля на фестивале Устуу-Хурээ!', 'интересно мнение тувинцев о статье', 'Группа хуун-хуур-ту в этом году выступит на фестивале саянское кольцо', '\"Дети Выдры\" (В.Хлебников, В. Мартынов)\\n http://vkontakte.ru/event26196395', 'Хуун-Хуур-Ту. Концерт в Самаре (http://vkontakte.ru/video-2485278_160808870)', 'Есть мнение: Обертонное пение западных исполнителей и тувинское горловое пение - это две большие разницы!', 'Тувинское горловое пение, его происхождение и механизмы', 'В душе каждый тувинец - шаман', 'Далеко и еще дальше - Тува', 'Ансамбль горлового пения «ХУУН-ХУУР-ТУ» (Тува) в Самаре http://vkontakte.ru/event23843945', '', 'Саянское кольцо', 'Группа обновилась, но ещё не до конца.\\nС радостью выслушаю ваши предложения/пожелания по изменению группы?']\n"
     ]
    }
   ],
   "source": [
    "posts = get_posts(\"huunhuurtu\")\n",
    "print (posts)"
   ]
  },
  {
   "cell_type": "code",
   "execution_count": 11,
   "metadata": {},
   "outputs": [
    {
     "data": {
      "text/plain": [
       "128"
      ]
     },
     "execution_count": 11,
     "metadata": {},
     "output_type": "execute_result"
    }
   ],
   "source": [
    "posts = get_posts(\"huunhuurtu\")\n",
    "len(posts)"
   ]
  },
  {
   "cell_type": "code",
   "execution_count": 12,
   "metadata": {},
   "outputs": [],
   "source": [
    "import matplotlib.pyplot as plt\n",
    "import seaborn as sns"
   ]
  },
  {
   "cell_type": "code",
   "execution_count": 13,
   "metadata": {},
   "outputs": [],
   "source": [
    "import pandas as pd\n",
    "\n",
    "df = pd.read_csv(\"members_vk_groups.tsv\", sep=\"\\t\", names=[\"id\", \"name\", \"surname\", \"sex\", \"birth\", \"city\", \"country\"])"
   ]
  },
  {
   "cell_type": "code",
   "execution_count": 14,
   "metadata": {
    "scrolled": true
   },
   "outputs": [
    {
     "data": {
      "text/html": [
       "<div>\n",
       "<style scoped>\n",
       "    .dataframe tbody tr th:only-of-type {\n",
       "        vertical-align: middle;\n",
       "    }\n",
       "\n",
       "    .dataframe tbody tr th {\n",
       "        vertical-align: top;\n",
       "    }\n",
       "\n",
       "    .dataframe thead th {\n",
       "        text-align: right;\n",
       "    }\n",
       "</style>\n",
       "<table border=\"1\" class=\"dataframe\">\n",
       "  <thead>\n",
       "    <tr style=\"text-align: right;\">\n",
       "      <th></th>\n",
       "      <th>id</th>\n",
       "      <th>name</th>\n",
       "      <th>surname</th>\n",
       "      <th>sex</th>\n",
       "      <th>birth</th>\n",
       "      <th>city</th>\n",
       "      <th>country</th>\n",
       "    </tr>\n",
       "  </thead>\n",
       "  <tbody>\n",
       "    <tr>\n",
       "      <th>0</th>\n",
       "      <td>1666,</td>\n",
       "      <td>Anatoly</td>\n",
       "      <td>Korotchenko</td>\n",
       "      <td>M</td>\n",
       "      <td>-</td>\n",
       "      <td>Moscow</td>\n",
       "      <td>Russia</td>\n",
       "    </tr>\n",
       "    <tr>\n",
       "      <th>1</th>\n",
       "      <td>5197,</td>\n",
       "      <td>Inka</td>\n",
       "      <td>Kapak</td>\n",
       "      <td>F</td>\n",
       "      <td>-</td>\n",
       "      <td>Saint Petersburg</td>\n",
       "      <td>Russia</td>\n",
       "    </tr>\n",
       "    <tr>\n",
       "      <th>2</th>\n",
       "      <td>6045,</td>\n",
       "      <td>DELETED</td>\n",
       "      <td>NaN</td>\n",
       "      <td>F</td>\n",
       "      <td>-</td>\n",
       "      <td>-</td>\n",
       "      <td>-</td>\n",
       "    </tr>\n",
       "    <tr>\n",
       "      <th>3</th>\n",
       "      <td>12871,</td>\n",
       "      <td>Valery</td>\n",
       "      <td>Vlaznev</td>\n",
       "      <td>M</td>\n",
       "      <td>1988</td>\n",
       "      <td>Moscow</td>\n",
       "      <td>Russia</td>\n",
       "    </tr>\n",
       "    <tr>\n",
       "      <th>4</th>\n",
       "      <td>20351,</td>\n",
       "      <td>Anatoly</td>\n",
       "      <td>Buchin</td>\n",
       "      <td>M</td>\n",
       "      <td>1987</td>\n",
       "      <td>Seattle</td>\n",
       "      <td>USA</td>\n",
       "    </tr>\n",
       "    <tr>\n",
       "      <th>5</th>\n",
       "      <td>20393,</td>\n",
       "      <td>Alexey</td>\n",
       "      <td>Chaynikov</td>\n",
       "      <td>M</td>\n",
       "      <td>-</td>\n",
       "      <td>Irkutsk</td>\n",
       "      <td>Russia</td>\n",
       "    </tr>\n",
       "    <tr>\n",
       "      <th>6</th>\n",
       "      <td>21250,</td>\n",
       "      <td>Evgenia</td>\n",
       "      <td>Vovk</td>\n",
       "      <td>F</td>\n",
       "      <td>-</td>\n",
       "      <td>Saint Petersburg</td>\n",
       "      <td>Russia</td>\n",
       "    </tr>\n",
       "    <tr>\n",
       "      <th>7</th>\n",
       "      <td>22304,</td>\n",
       "      <td>Stanislav</td>\n",
       "      <td>Aksarin</td>\n",
       "      <td>M</td>\n",
       "      <td>-</td>\n",
       "      <td>Saint Petersburg</td>\n",
       "      <td>Russia</td>\n",
       "    </tr>\n",
       "    <tr>\n",
       "      <th>8</th>\n",
       "      <td>26660,</td>\n",
       "      <td>Igor</td>\n",
       "      <td>Sherstennikov</td>\n",
       "      <td>M</td>\n",
       "      <td>-</td>\n",
       "      <td>Saint Petersburg</td>\n",
       "      <td>Russia</td>\n",
       "    </tr>\n",
       "    <tr>\n",
       "      <th>9</th>\n",
       "      <td>27202,</td>\n",
       "      <td>Yury</td>\n",
       "      <td>Ivanov</td>\n",
       "      <td>M</td>\n",
       "      <td>-</td>\n",
       "      <td>Saint Petersburg</td>\n",
       "      <td>Russia</td>\n",
       "    </tr>\n",
       "  </tbody>\n",
       "</table>\n",
       "</div>"
      ],
      "text/plain": [
       "       id       name        surname sex birth              city country\n",
       "0   1666,    Anatoly    Korotchenko   M     -            Moscow  Russia\n",
       "1   5197,       Inka          Kapak   F     -  Saint Petersburg  Russia\n",
       "2   6045,    DELETED            NaN   F     -                 -       -\n",
       "3  12871,     Valery        Vlaznev   M  1988            Moscow  Russia\n",
       "4  20351,    Anatoly         Buchin   M  1987           Seattle     USA\n",
       "5  20393,     Alexey      Chaynikov   M     -           Irkutsk  Russia\n",
       "6  21250,    Evgenia           Vovk   F     -  Saint Petersburg  Russia\n",
       "7  22304,  Stanislav        Aksarin   M     -  Saint Petersburg  Russia\n",
       "8  26660,       Igor  Sherstennikov   M     -  Saint Petersburg  Russia\n",
       "9  27202,       Yury         Ivanov   M     -  Saint Petersburg  Russia"
      ]
     },
     "execution_count": 14,
     "metadata": {},
     "output_type": "execute_result"
    }
   ],
   "source": [
    "df.head(10)"
   ]
  },
  {
   "cell_type": "code",
   "execution_count": 15,
   "metadata": {},
   "outputs": [],
   "source": [
    "city_count  = df['city'].value_counts().drop('-') \n",
    "city_count = city_count[:30] \n"
   ]
  },
  {
   "cell_type": "code",
   "execution_count": 16,
   "metadata": {},
   "outputs": [
    {
     "data": {
      "image/png": "[encoded data removed]",
      "text/plain": [
       "<Figure size 432x288 with 1 Axes>"
      ]
     },
     "metadata": {
      "needs_background": "light"
     },
     "output_type": "display_data"
    }
   ],
   "source": [
    "sns.barplot(city_count.index, city_count.values, palette='Greens_r') \n",
    "plt.title('Cities of huunhuurtu band fans')\n",
    "plt.ylabel('Number of group members', fontsize=12)\n",
    "plt.xlabel('city', fontsize=12)\n",
    "plt.xticks(rotation=90) \n",
    "plt.show() "
   ]
  },
  {
   "cell_type": "code",
   "execution_count": 17,
   "metadata": {
    "scrolled": true
   },
   "outputs": [
    {
     "data": {
      "image/png": "[encoded data removed]",
      "text/plain": [
       "<Figure size 1440x720 with 1 Axes>"
      ]
     },
     "metadata": {
      "needs_background": "light"
     },
     "output_type": "display_data"
    }
   ],
   "source": [
    "birth_count  = df['birth'].value_counts().drop('-') # выбираем столбец с датами рождения, подсчитываем их частоту и удаляем, то где нет д.Р\n",
    "plt.figure(figsize=(20,10))   # размер картинки\n",
    "ax = sns.barplot(birth_count.index, birth_count.values, palette='copper') # рисуем график, выбираем цвет\n",
    "plt.title('Birth year of huunhuurtu band fans')\n",
    "plt.ylabel('Nb of fans', fontsize=12)\n",
    "plt.xlabel('Birth year', fontsize=12)\n",
    "plt.xticks(rotation=90) # разворачиваем подписи под городами на 90 градусов\n",
    "plt.show() # показываем изображение"
   ]
  },
  {
   "cell_type": "code",
   "execution_count": 18,
   "metadata": {},
   "outputs": [],
   "source": [
    "sex_count  = df['sex'].value_counts().drop('-') # считаем города и удаляем отсутствие города в табличке: \"-\"\n",
    "sex_count = sex_count[:2] # первые 20 городов\n",
    "#print(city_count)"
   ]
  },
  {
   "cell_type": "code",
   "execution_count": 19,
   "metadata": {},
   "outputs": [
    {
     "data": {
      "image/png": "[encoded data removed]",
      "text/plain": [
       "<Figure size 432x288 with 1 Axes>"
      ]
     },
     "metadata": {
      "needs_background": "light"
     },
     "output_type": "display_data"
    }
   ],
   "source": [
    "sns.barplot(sex_count.index, sex_count.values, palette='Greens_r') # рисуем график, выбираем цвет\n",
    "plt.title('sexes of huunhuurtu band fans')\n",
    "plt.ylabel('Number of group members', fontsize=12)\n",
    "plt.xlabel('sex', fontsize=12)\n",
    "plt.xticks(rotation=90) # разворачиваем подписи под городами на 90 градусов\n",
    "plt.show() # показываем изображение"
   ]
  },
  {
   "cell_type": "code",
   "execution_count": 20,
   "metadata": {},
   "outputs": [],
   "source": [
    "# определяем локальность "
   ]
  },
  {
   "cell_type": "code",
   "execution_count": 21,
   "metadata": {},
   "outputs": [],
   "source": [
    "city_count  = df['city'].value_counts().drop('-') \n",
    "city_count = city_count[:3] \n"
   ]
  },
  {
   "cell_type": "code",
   "execution_count": 22,
   "metadata": {},
   "outputs": [],
   "source": [
    "df.loc[(df['city'] == 'Moscow')] = \"msk + spb\"\n",
    "df.loc[(df['city'] == 'Saint Petersburg')] = \"msk + spb\"\n",
    "df.loc[(df['city'] != \"msk + spb\") & (df['city'] != \"-\")] = \"province\"\n",
    "\n",
    "\n",
    "city_count  = df['city'].value_counts().drop('-') \n",
    "city_count = city_count[:20] "
   ]
  },
  {
   "cell_type": "code",
   "execution_count": 23,
   "metadata": {},
   "outputs": [
    {
     "data": {
      "image/png": "[encoded data removed]",
      "text/plain": [
       "<Figure size 432x288 with 1 Axes>"
      ]
     },
     "metadata": {
      "needs_background": "light"
     },
     "output_type": "display_data"
    }
   ],
   "source": [
    "axes = city_count.plot.bar() "
   ]
  }
 ],
 "metadata": {
  "kernelspec": {
   "display_name": "Python 3",
   "language": "python",
   "name": "python3"
  },
  "language_info": {
   "codemirror_mode": {
    "name": "ipython",
    "version": 3
   },
   "file_extension": ".py",
   "mimetype": "text/x-python",
   "name": "python",
   "nbconvert_exporter": "python",
   "pygments_lexer": "ipython3",
   "version": "3.8.3"
  }
 },
 "nbformat": 4,
 "nbformat_minor": 4
}
