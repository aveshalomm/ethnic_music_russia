{
 "cells": [
  {
   "cell_type": "code",
   "execution_count": 145,
   "metadata": {},
   "outputs": [],
   "source": [
    "import vk  "
   ]
  },
  {
   "cell_type": "code",
   "execution_count": 146,
   "metadata": {},
   "outputs": [],
   "source": [
    "token = \"\"  \n",
    "session = vk.Session(access_token=token) \n",
    "vk_api = vk.API(session)  "
   ]
  },
  {
   "cell_type": "code",
   "execution_count": 147,
   "metadata": {},
   "outputs": [],
   "source": [
    "personal_token = \"\"\n",
    "session = vk.Session(access_token=personal_token)  \n",
    "personal_vk_api = vk.API(session) "
   ]
  },
  {
   "cell_type": "code",
   "execution_count": 148,
   "metadata": {},
   "outputs": [],
   "source": [
    "with open (\"members_vk_groups.tsv\", 'r', encoding='utf-8') as f:\n",
    "    members1 = [i.split(\"\\t\")[0].strip (\",\") for i in f.read().split(\"\\n\")]\n",
    "\n",
    "with open (\"members_vk_groups_ored.tsv\", 'r', encoding='utf-8') as f:\n",
    "    members2 = [i.split(\"\\t\")[0].strip (\",\") for i in f.read().split(\"\\n\")]"
   ]
  },
  {
   "cell_type": "code",
   "execution_count": 149,
   "metadata": {},
   "outputs": [],
   "source": [
    "members1 = set(members1)\n",
    "members2 = set(members2)"
   ]
  },
  {
   "cell_type": "code",
   "execution_count": 150,
   "metadata": {},
   "outputs": [
    {
     "data": {
      "text/plain": [
       "124"
      ]
     },
     "execution_count": 150,
     "metadata": {},
     "output_type": "execute_result"
    }
   ],
   "source": [
    "len(members1.intersection(members2))"
   ]
  },
  {
   "cell_type": "code",
   "execution_count": 151,
   "metadata": {},
   "outputs": [],
   "source": [
    "intersected_members = members1.intersection(members2)"
   ]
  },
  {
   "cell_type": "code",
   "execution_count": 152,
   "metadata": {},
   "outputs": [
    {
     "data": {
      "text/plain": [
       "{'',\n",
       " '10146607',\n",
       " '104665',\n",
       " '11014083',\n",
       " '1105069',\n",
       " '113264396',\n",
       " '113685860',\n",
       " '11891999',\n",
       " '12217727',\n",
       " '12258647',\n",
       " '124691922',\n",
       " '126480355',\n",
       " '127789160',\n",
       " '132617109',\n",
       " '133407006',\n",
       " '13447792',\n",
       " '1365083',\n",
       " '139485249',\n",
       " '140898581',\n",
       " '14229219',\n",
       " '14265116',\n",
       " '144811552',\n",
       " '15169492',\n",
       " '153900',\n",
       " '154607671',\n",
       " '155793255',\n",
       " '15838301',\n",
       " '15841185',\n",
       " '16137685',\n",
       " '164895079',\n",
       " '165517',\n",
       " '16569888',\n",
       " '172366517',\n",
       " '173496',\n",
       " '1813851',\n",
       " '181971286',\n",
       " '182582147',\n",
       " '183930857',\n",
       " '18739105',\n",
       " '19471864',\n",
       " '1965080',\n",
       " '1981641',\n",
       " '1984245',\n",
       " '20143165',\n",
       " '204900771',\n",
       " '206799459',\n",
       " '20769140',\n",
       " '21070188',\n",
       " '215202781',\n",
       " '216065664',\n",
       " '22183081',\n",
       " '223462814',\n",
       " '225225365',\n",
       " '226116713',\n",
       " '2261242',\n",
       " '229231169',\n",
       " '232237319',\n",
       " '236028079',\n",
       " '240992581',\n",
       " '2450250',\n",
       " '25002036',\n",
       " '27070790',\n",
       " '275971015',\n",
       " '2760419',\n",
       " '27808433',\n",
       " '291880458',\n",
       " '296395',\n",
       " '30558787',\n",
       " '320918696',\n",
       " '323344805',\n",
       " '3241468',\n",
       " '33501282',\n",
       " '35100183',\n",
       " '3650943',\n",
       " '365632982',\n",
       " '36797725',\n",
       " '38042756',\n",
       " '38964343',\n",
       " '390009',\n",
       " '39036102',\n",
       " '3962075',\n",
       " '3979214',\n",
       " '40460604',\n",
       " '4047157',\n",
       " '409019',\n",
       " '42588267',\n",
       " '42961143',\n",
       " '4362732',\n",
       " '443452',\n",
       " '44586036',\n",
       " '4543901',\n",
       " '47090887',\n",
       " '477640155',\n",
       " '488984',\n",
       " '499824871',\n",
       " '5048898',\n",
       " '52862134',\n",
       " '5314940',\n",
       " '554889',\n",
       " '5674868',\n",
       " '57695933',\n",
       " '58329990',\n",
       " '5857995',\n",
       " '621973',\n",
       " '62305563',\n",
       " '6291818',\n",
       " '638492',\n",
       " '647712',\n",
       " '685900',\n",
       " '71164480',\n",
       " '717793',\n",
       " '772616',\n",
       " '780043',\n",
       " '79008297',\n",
       " '79116546',\n",
       " '79448770',\n",
       " '8053653',\n",
       " '84116691',\n",
       " '8419113',\n",
       " '85248388',\n",
       " '9046143',\n",
       " '92928332',\n",
       " '95676207',\n",
       " '98465469'}"
      ]
     },
     "execution_count": 152,
     "metadata": {},
     "output_type": "execute_result"
    }
   ],
   "source": [
    "intersected_members"
   ]
  },
  {
   "cell_type": "code",
   "execution_count": 153,
   "metadata": {},
   "outputs": [],
   "source": [
    "with open (\"members_vk_groups.tsv\", 'r', encoding='utf-8') as f:\n",
    "    members1 = f.read().split(\"\\n\")\n",
    "\n",
    "with open (\"members_vk_groups_ored.tsv\", 'r', encoding='utf-8') as f:\n",
    "    members2 = f.read().split(\"\\n\")"
   ]
  },
  {
   "cell_type": "code",
   "execution_count": 154,
   "metadata": {},
   "outputs": [],
   "source": [
    "members1 = set(members1)\n",
    "members2 = set(members2)\n",
    "members2.remove(\"\")"
   ]
  },
  {
   "cell_type": "code",
   "execution_count": 155,
   "metadata": {},
   "outputs": [],
   "source": [
    "intersected_members = members1.intersection(members2)"
   ]
  },
  {
   "cell_type": "code",
   "execution_count": 156,
   "metadata": {},
   "outputs": [],
   "source": [
    "with open(\"intersected.tsv\", \"w\", encoding=\"utf-8\") as w:\n",
    "    for i in intersected_members:\n",
    "        w.write(i+\"\\n\")"
   ]
  },
  {
   "cell_type": "code",
   "execution_count": 157,
   "metadata": {},
   "outputs": [],
   "source": [
    "import matplotlib.pyplot as plt\n",
    "import seaborn as sns"
   ]
  },
  {
   "cell_type": "code",
   "execution_count": 158,
   "metadata": {},
   "outputs": [],
   "source": [
    "import pandas as pd\n",
    "\n",
    "df = pd.read_csv(\"intersected.tsv\", sep=\"\\t\", names=[\"id\", \"name\", \"surname\", \"sex\", \"birth\", \"city\", \"country\"])"
   ]
  },
  {
   "cell_type": "code",
   "execution_count": 159,
   "metadata": {},
   "outputs": [
    {
     "data": {
      "text/html": [
       "<div>\n",
       "<style scoped>\n",
       "    .dataframe tbody tr th:only-of-type {\n",
       "        vertical-align: middle;\n",
       "    }\n",
       "\n",
       "    .dataframe tbody tr th {\n",
       "        vertical-align: top;\n",
       "    }\n",
       "\n",
       "    .dataframe thead th {\n",
       "        text-align: right;\n",
       "    }\n",
       "</style>\n",
       "<table border=\"1\" class=\"dataframe\">\n",
       "  <thead>\n",
       "    <tr style=\"text-align: right;\">\n",
       "      <th></th>\n",
       "      <th>id</th>\n",
       "      <th>name</th>\n",
       "      <th>surname</th>\n",
       "      <th>sex</th>\n",
       "      <th>birth</th>\n",
       "      <th>city</th>\n",
       "      <th>country</th>\n",
       "    </tr>\n",
       "  </thead>\n",
       "  <tbody>\n",
       "    <tr>\n",
       "      <th>0</th>\n",
       "      <td>27070790,</td>\n",
       "      <td>Ruslan</td>\n",
       "      <td>Ivanov</td>\n",
       "      <td>M</td>\n",
       "      <td>-</td>\n",
       "      <td>-</td>\n",
       "      <td>-</td>\n",
       "    </tr>\n",
       "    <tr>\n",
       "      <th>1</th>\n",
       "      <td>12217727,</td>\n",
       "      <td>Irina</td>\n",
       "      <td>Lagina</td>\n",
       "      <td>F</td>\n",
       "      <td>-</td>\n",
       "      <td>Moscow</td>\n",
       "      <td>Russia</td>\n",
       "    </tr>\n",
       "    <tr>\n",
       "      <th>2</th>\n",
       "      <td>139485249,</td>\n",
       "      <td>Natalya</td>\n",
       "      <td>Oganesyan</td>\n",
       "      <td>F</td>\n",
       "      <td>-</td>\n",
       "      <td>Ufa</td>\n",
       "      <td>Russia</td>\n",
       "    </tr>\n",
       "    <tr>\n",
       "      <th>3</th>\n",
       "      <td>4047157,</td>\n",
       "      <td>Vladimir</td>\n",
       "      <td>Zavyalov</td>\n",
       "      <td>M</td>\n",
       "      <td>1981</td>\n",
       "      <td>Krasnodar</td>\n",
       "      <td>Russia</td>\n",
       "    </tr>\n",
       "    <tr>\n",
       "      <th>4</th>\n",
       "      <td>229231169,</td>\n",
       "      <td>Lera</td>\n",
       "      <td>Shelegina</td>\n",
       "      <td>F</td>\n",
       "      <td>-</td>\n",
       "      <td>Moscow</td>\n",
       "      <td>Russia</td>\n",
       "    </tr>\n",
       "    <tr>\n",
       "      <th>5</th>\n",
       "      <td>36797725,</td>\n",
       "      <td>Ivan</td>\n",
       "      <td>Khronenko</td>\n",
       "      <td>M</td>\n",
       "      <td>1981</td>\n",
       "      <td>Samara</td>\n",
       "      <td>Russia</td>\n",
       "    </tr>\n",
       "    <tr>\n",
       "      <th>6</th>\n",
       "      <td>182582147,</td>\n",
       "      <td>Vesyoly</td>\n",
       "      <td>Losos</td>\n",
       "      <td>F</td>\n",
       "      <td>-</td>\n",
       "      <td>-</td>\n",
       "      <td>Russia</td>\n",
       "    </tr>\n",
       "    <tr>\n",
       "      <th>7</th>\n",
       "      <td>1965080,</td>\n",
       "      <td>Natasha</td>\n",
       "      <td>Podobed</td>\n",
       "      <td>F</td>\n",
       "      <td>-</td>\n",
       "      <td>Berlin</td>\n",
       "      <td>Germany</td>\n",
       "    </tr>\n",
       "    <tr>\n",
       "      <th>8</th>\n",
       "      <td>477640155,</td>\n",
       "      <td>Al</td>\n",
       "      <td>De</td>\n",
       "      <td>M</td>\n",
       "      <td>1985</td>\n",
       "      <td>Moscow</td>\n",
       "      <td>Russia</td>\n",
       "    </tr>\n",
       "    <tr>\n",
       "      <th>9</th>\n",
       "      <td>11014083,</td>\n",
       "      <td>Askold</td>\n",
       "      <td>Shlemovich</td>\n",
       "      <td>M</td>\n",
       "      <td>2006</td>\n",
       "      <td>Kyiv</td>\n",
       "      <td>Ukraine</td>\n",
       "    </tr>\n",
       "  </tbody>\n",
       "</table>\n",
       "</div>"
      ],
      "text/plain": [
       "           id      name     surname sex birth       city  country\n",
       "0   27070790,    Ruslan      Ivanov   M     -          -        -\n",
       "1   12217727,     Irina      Lagina   F     -     Moscow   Russia\n",
       "2  139485249,   Natalya   Oganesyan   F     -        Ufa   Russia\n",
       "3    4047157,  Vladimir    Zavyalov   M  1981  Krasnodar   Russia\n",
       "4  229231169,      Lera   Shelegina   F     -     Moscow   Russia\n",
       "5   36797725,      Ivan   Khronenko   M  1981     Samara   Russia\n",
       "6  182582147,   Vesyoly       Losos   F     -          -   Russia\n",
       "7    1965080,   Natasha     Podobed   F     -     Berlin  Germany\n",
       "8  477640155,        Al          De   M  1985     Moscow   Russia\n",
       "9   11014083,    Askold  Shlemovich   M  2006       Kyiv  Ukraine"
      ]
     },
     "execution_count": 159,
     "metadata": {},
     "output_type": "execute_result"
    }
   ],
   "source": [
    "df.head(10)"
   ]
  },
  {
   "cell_type": "code",
   "execution_count": 160,
   "metadata": {},
   "outputs": [],
   "source": [
    "city_count  = df['city'].value_counts().drop('-') \n",
    "city_count = city_count[:30] \n"
   ]
  },
  {
   "cell_type": "code",
   "execution_count": 161,
   "metadata": {},
   "outputs": [
    {
     "data": {
      "image/png": "[encoded data removed]",
      "text/plain": [
       "<Figure size 432x288 with 1 Axes>"
      ]
     },
     "metadata": {
      "needs_background": "light"
     },
     "output_type": "display_data"
    }
   ],
   "source": [
    "sns.barplot(city_count.index, city_count.values, palette='Greens_r') \n",
    "plt.title('Cities of ethnic band fans')\n",
    "plt.ylabel('Number of group members', fontsize=12)\n",
    "plt.xlabel('city', fontsize=12)\n",
    "plt.xticks(rotation=90) \n",
    "plt.show() "
   ]
  },
  {
   "cell_type": "code",
   "execution_count": 162,
   "metadata": {},
   "outputs": [
    {
     "data": {
      "image/png": "[encoded data removed]",
      "text/plain": [
       "<Figure size 1440x720 with 1 Axes>"
      ]
     },
     "metadata": {
      "needs_background": "light"
     },
     "output_type": "display_data"
    }
   ],
   "source": [
    "birth_count  = df['birth'].value_counts().drop('-') \n",
    "plt.figure(figsize=(20,10))   \n",
    "ax = sns.barplot(birth_count.index, birth_count.values, palette='copper') \n",
    "plt.title('Birth year of both ethnic band fans')\n",
    "plt.ylabel('Nb of fans', fontsize=12)\n",
    "plt.xlabel('Birth year', fontsize=12)\n",
    "plt.xticks(rotation=90) \n",
    "plt.show() "
   ]
  },
  {
   "cell_type": "code",
   "execution_count": 163,
   "metadata": {},
   "outputs": [],
   "source": [
    "sex_count  = df['sex'].value_counts() \n",
    "sex_count = sex_count[:2] \n",
    "#print(city_count)"
   ]
  },
  {
   "cell_type": "code",
   "execution_count": 164,
   "metadata": {},
   "outputs": [
    {
     "data": {
      "image/png": "[encoded data removed]",
      "text/plain": [
       "<Figure size 432x288 with 1 Axes>"
      ]
     },
     "metadata": {
      "needs_background": "light"
     },
     "output_type": "display_data"
    }
   ],
   "source": [
    "sns.barplot(sex_count.index, sex_count.values, palette='Greens_r') \n",
    "plt.title('sexes of both ethnic band fans')\n",
    "plt.ylabel('Number of group members', fontsize=12)\n",
    "plt.xlabel('sex', fontsize=12)\n",
    "plt.xticks(rotation=90) \n",
    "plt.show()"
   ]
  },
  {
   "cell_type": "code",
   "execution_count": 165,
   "metadata": {},
   "outputs": [],
   "source": [
    "df.loc[(df['city'] == 'Moscow')] = \"msk + spb\"\n",
    "df.loc[(df['city'] == 'Saint Petersburg')] = \"msk + spb\"\n",
    "df.loc[(df['city'] != \"msk + spb\") & (df['city'] != \"-\")] = \"province\"\n",
    "\n",
    "\n",
    "city_count  = df['city'].value_counts().drop('-') \n",
    "city_count = city_count[:20] "
   ]
  },
  {
   "cell_type": "code",
   "execution_count": 166,
   "metadata": {},
   "outputs": [
    {
     "data": {
      "image/png": "[encoded data removed]",
      "text/plain": [
       "<Figure size 432x288 with 1 Axes>"
      ]
     },
     "metadata": {
      "needs_background": "light"
     },
     "output_type": "display_data"
    }
   ],
   "source": [
    "axes = city_count.plot.bar() "
   ]
  },
  {
   "cell_type": "code",
   "execution_count": 167,
   "metadata": {},
   "outputs": [],
   "source": [
    "with open (\"members_vk_groups.tsv\", 'r', encoding='utf-8') as f:\n",
    "    members1 = f.read().split(\"\\n\")\n",
    "\n",
    "with open (\"members_vk_groups_ored.tsv\", 'r', encoding='utf-8') as f:\n",
    "    members2 = f.read().split(\"\\n\")"
   ]
  },
  {
   "cell_type": "code",
   "execution_count": 168,
   "metadata": {},
   "outputs": [],
   "source": [
    "members1 = set(members1)\n",
    "members2 = set(members2)\n",
    "members2.remove(\"\")"
   ]
  },
  {
   "cell_type": "code",
   "execution_count": 169,
   "metadata": {},
   "outputs": [],
   "source": [
    "union_members = members1.union(members2)"
   ]
  },
  {
   "cell_type": "code",
   "execution_count": 170,
   "metadata": {},
   "outputs": [
    {
     "data": {
      "text/plain": [
       "12607"
      ]
     },
     "execution_count": 170,
     "metadata": {},
     "output_type": "execute_result"
    }
   ],
   "source": [
    "len (union_members)"
   ]
  },
  {
   "cell_type": "code",
   "execution_count": 171,
   "metadata": {},
   "outputs": [],
   "source": [
    "with open(\"union.tsv\", \"w\", encoding=\"utf-8\") as w:\n",
    "    for i in union_members:\n",
    "        w.write(i+\"\\n\")"
   ]
  },
  {
   "cell_type": "code",
   "execution_count": 172,
   "metadata": {},
   "outputs": [],
   "source": [
    "import matplotlib.pyplot as plt\n",
    "import seaborn as sns"
   ]
  },
  {
   "cell_type": "code",
   "execution_count": 173,
   "metadata": {},
   "outputs": [],
   "source": [
    "import pandas as pd\n",
    "\n",
    "df = pd.read_csv(\"union.tsv\", sep=\"\\t\", names=[\"id\", \"name\", \"surname\", \"sex\", \"birth\", \"city\", \"country\"])"
   ]
  },
  {
   "cell_type": "code",
   "execution_count": 174,
   "metadata": {},
   "outputs": [
    {
     "data": {
      "text/html": [
       "<div>\n",
       "<style scoped>\n",
       "    .dataframe tbody tr th:only-of-type {\n",
       "        vertical-align: middle;\n",
       "    }\n",
       "\n",
       "    .dataframe tbody tr th {\n",
       "        vertical-align: top;\n",
       "    }\n",
       "\n",
       "    .dataframe thead th {\n",
       "        text-align: right;\n",
       "    }\n",
       "</style>\n",
       "<table border=\"1\" class=\"dataframe\">\n",
       "  <thead>\n",
       "    <tr style=\"text-align: right;\">\n",
       "      <th></th>\n",
       "      <th>id</th>\n",
       "      <th>name</th>\n",
       "      <th>surname</th>\n",
       "      <th>sex</th>\n",
       "      <th>birth</th>\n",
       "      <th>city</th>\n",
       "      <th>country</th>\n",
       "    </tr>\n",
       "  </thead>\n",
       "  <tbody>\n",
       "    <tr>\n",
       "      <th>0</th>\n",
       "      <td>213336167,</td>\n",
       "      <td>Fyodor</td>\n",
       "      <td>Novikov</td>\n",
       "      <td>M</td>\n",
       "      <td>1989</td>\n",
       "      <td>Saint Petersburg</td>\n",
       "      <td>Russia</td>\n",
       "    </tr>\n",
       "    <tr>\n",
       "      <th>1</th>\n",
       "      <td>22445521,</td>\n",
       "      <td>Evgeny</td>\n",
       "      <td>Arkhipov</td>\n",
       "      <td>M</td>\n",
       "      <td>-</td>\n",
       "      <td>Moscow</td>\n",
       "      <td>Russia</td>\n",
       "    </tr>\n",
       "    <tr>\n",
       "      <th>2</th>\n",
       "      <td>418212266,</td>\n",
       "      <td>Molchalivy</td>\n",
       "      <td>Bob</td>\n",
       "      <td>M</td>\n",
       "      <td>2002</td>\n",
       "      <td>-</td>\n",
       "      <td>Ukraine</td>\n",
       "    </tr>\n",
       "    <tr>\n",
       "      <th>3</th>\n",
       "      <td>229156729,</td>\n",
       "      <td>DELETED</td>\n",
       "      <td>NaN</td>\n",
       "      <td>M</td>\n",
       "      <td>-</td>\n",
       "      <td>-</td>\n",
       "      <td>-</td>\n",
       "    </tr>\n",
       "    <tr>\n",
       "      <th>4</th>\n",
       "      <td>24909575,</td>\n",
       "      <td>Vladimir</td>\n",
       "      <td>Popov</td>\n",
       "      <td>M</td>\n",
       "      <td>1975</td>\n",
       "      <td>Yekaterinburg</td>\n",
       "      <td>Russia</td>\n",
       "    </tr>\n",
       "    <tr>\n",
       "      <th>5</th>\n",
       "      <td>194525508,</td>\n",
       "      <td>Manish</td>\n",
       "      <td>Manish</td>\n",
       "      <td>M</td>\n",
       "      <td>-</td>\n",
       "      <td>Samara</td>\n",
       "      <td>Russia</td>\n",
       "    </tr>\n",
       "    <tr>\n",
       "      <th>6</th>\n",
       "      <td>28974801,</td>\n",
       "      <td>Venera</td>\n",
       "      <td>Karimova</td>\n",
       "      <td>F</td>\n",
       "      <td>-</td>\n",
       "      <td>Uchaly</td>\n",
       "      <td>Russia</td>\n",
       "    </tr>\n",
       "    <tr>\n",
       "      <th>7</th>\n",
       "      <td>292037512,</td>\n",
       "      <td>Sapar</td>\n",
       "      <td>Iskakov</td>\n",
       "      <td>M</td>\n",
       "      <td>-</td>\n",
       "      <td>Nur-Sultan/Astana</td>\n",
       "      <td>Kazakhstan</td>\n",
       "    </tr>\n",
       "    <tr>\n",
       "      <th>8</th>\n",
       "      <td>428271500,</td>\n",
       "      <td>Moon</td>\n",
       "      <td>Child</td>\n",
       "      <td>F</td>\n",
       "      <td>-</td>\n",
       "      <td>-</td>\n",
       "      <td>Russia</td>\n",
       "    </tr>\n",
       "    <tr>\n",
       "      <th>9</th>\n",
       "      <td>161316488,</td>\n",
       "      <td>Amia</td>\n",
       "      <td>Ivanova</td>\n",
       "      <td>F</td>\n",
       "      <td>-</td>\n",
       "      <td>Nalchik</td>\n",
       "      <td>Russia</td>\n",
       "    </tr>\n",
       "  </tbody>\n",
       "</table>\n",
       "</div>"
      ],
      "text/plain": [
       "           id        name   surname sex birth               city     country\n",
       "0  213336167,      Fyodor   Novikov   M  1989   Saint Petersburg      Russia\n",
       "1   22445521,      Evgeny  Arkhipov   M     -             Moscow      Russia\n",
       "2  418212266,  Molchalivy       Bob   M  2002                  -     Ukraine\n",
       "3  229156729,     DELETED       NaN   M     -                  -           -\n",
       "4   24909575,    Vladimir     Popov   M  1975      Yekaterinburg      Russia\n",
       "5  194525508,      Manish    Manish   M     -             Samara      Russia\n",
       "6   28974801,      Venera  Karimova   F     -             Uchaly      Russia\n",
       "7  292037512,       Sapar   Iskakov   M     -  Nur-Sultan/Astana  Kazakhstan\n",
       "8  428271500,        Moon     Child   F     -                  -      Russia\n",
       "9  161316488,        Amia   Ivanova   F     -            Nalchik      Russia"
      ]
     },
     "execution_count": 174,
     "metadata": {},
     "output_type": "execute_result"
    }
   ],
   "source": [
    "df.head(10)"
   ]
  },
  {
   "cell_type": "code",
   "execution_count": 175,
   "metadata": {},
   "outputs": [],
   "source": [
    "city_count  = df['city'].value_counts().drop('-') \n",
    "city_count = city_count[:30] "
   ]
  },
  {
   "cell_type": "code",
   "execution_count": 176,
   "metadata": {},
   "outputs": [
    {
     "data": {
      "image/png": "[encoded data removed]",
      "text/plain": [
       "<Figure size 432x288 with 1 Axes>"
      ]
     },
     "metadata": {
      "needs_background": "light"
     },
     "output_type": "display_data"
    }
   ],
   "source": [
    "sns.barplot(city_count.index, city_count.values, palette='Greens_r') \n",
    "plt.title('Cities of ethnic band fans')\n",
    "plt.ylabel('Number of group members', fontsize=12)\n",
    "plt.xlabel('city', fontsize=12)\n",
    "plt.xticks(rotation=90) \n",
    "plt.show() "
   ]
  },
  {
   "cell_type": "code",
   "execution_count": 177,
   "metadata": {},
   "outputs": [
    {
     "data": {
      "image/png": "[encoded data removed]",
      "text/plain": [
       "<Figure size 1440x720 with 1 Axes>"
      ]
     },
     "metadata": {
      "needs_background": "light"
     },
     "output_type": "display_data"
    }
   ],
   "source": [
    "birth_count  = df['birth'].value_counts().drop('-') \n",
    "plt.figure(figsize=(20,10))   \n",
    "ax = sns.barplot(birth_count.index, birth_count.values, palette='copper') \n",
    "plt.title('Birth year of both ethnic band fans')\n",
    "plt.ylabel('Nb of fans', fontsize=12)\n",
    "plt.xlabel('Birth year', fontsize=12)\n",
    "plt.xticks(rotation=90) \n",
    "plt.show() "
   ]
  },
  {
   "cell_type": "code",
   "execution_count": 178,
   "metadata": {},
   "outputs": [],
   "source": [
    "sex_count  = df['sex'].value_counts() \n",
    "sex_count = sex_count[:2] \n"
   ]
  },
  {
   "cell_type": "code",
   "execution_count": 179,
   "metadata": {},
   "outputs": [
    {
     "data": {
      "image/png": "[encoded data removed]",
      "text/plain": [
       "<Figure size 432x288 with 1 Axes>"
      ]
     },
     "metadata": {
      "needs_background": "light"
     },
     "output_type": "display_data"
    }
   ],
   "source": [
    "sns.barplot(sex_count.index, sex_count.values, palette='Greens_r') \n",
    "plt.title('sexes of ethnic band fans')\n",
    "plt.ylabel('Number of group members', fontsize=12)\n",
    "plt.xlabel('sex', fontsize=12)\n",
    "plt.xticks(rotation=90) \n",
    "plt.show() "
   ]
  },
  {
   "cell_type": "code",
   "execution_count": 183,
   "metadata": {},
   "outputs": [],
   "source": [
    "df.loc[(df['city'] == 'Moscow')] = \"msk + spb\"\n",
    "df.loc[(df['city'] == 'Saint Petersburg')] = \"msk + spb\"\n",
    "df.loc[(df['city'] != \"msk + spb\") & (df['city'])] = \"province\"\n",
    "\n",
    "\n",
    "city_count  = df['city'].value_counts() # считаем города и удаляем отсутствие города в табличке: \"-\"\n",
    "city_count = city_count[:20] # первые 20 городов"
   ]
  },
  {
   "cell_type": "code",
   "execution_count": 184,
   "metadata": {},
   "outputs": [
    {
     "data": {
      "image/png": "[encoded data removed]",
      "text/plain": [
       "<Figure size 432x288 with 1 Axes>"
      ]
     },
     "metadata": {
      "needs_background": "light"
     },
     "output_type": "display_data"
    }
   ],
   "source": [
    "axes = city_count.plot.bar() # строим график"
   ]
  },
  {
   "cell_type": "code",
   "execution_count": 80,
   "metadata": {},
   "outputs": [],
   "source": [
    "import networkx as nx\n",
    "import matplotlib.pyplot as plt\n",
    "import math"
   ]
  }
 ],
 "metadata": {
  "kernelspec": {
   "display_name": "Python 3",
   "language": "python",
   "name": "python3"
  },
  "language_info": {
   "codemirror_mode": {
    "name": "ipython",
    "version": 3
   },
   "file_extension": ".py",
   "mimetype": "text/x-python",
   "name": "python",
   "nbconvert_exporter": "python",
   "pygments_lexer": "ipython3",
   "version": "3.8.3"
  }
 },
 "nbformat": 4,
 "nbformat_minor": 4
}
